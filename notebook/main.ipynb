{
 "cells": [
  {
   "cell_type": "code",
   "execution_count": 1,
   "metadata": {},
   "outputs": [],
   "source": [
    "# Internal\n",
    "from xml.dom import minidom\n",
    "import re\n",
    "\n",
    "# External\n",
    "\n",
    "# Project\n",
    "import sys\n",
    "sys.path.append(\"../src\")\n",
    "\n",
    "from rdp import rdp\n",
    "from shape_preprocessor import grab_points\n",
    "\n",
    "# Project Specific Configuration"
   ]
  },
  {
   "cell_type": "code",
   "execution_count": 2,
   "metadata": {},
   "outputs": [
    {
     "name": "stdout",
     "output_type": "stream",
     "text": [
      "grab_points(\"../data/raw/Star/1.svg\")=array([[ -1.56,   0.  ],\n",
      "       [ -1.52,  -5.55],\n",
      "       [ -1.49, -11.11],\n",
      "       ...,\n",
      "       [ -1.53,   0.18],\n",
      "       [ -1.56,  -0.  ],\n",
      "       [ -1.56,  -0.  ]])\n"
     ]
    }
   ],
   "source": [
    "print(f'{grab_points(\"../data/raw/Star/1.svg\")=}')"
   ]
  },
  {
   "cell_type": "code",
   "execution_count": 3,
   "metadata": {},
   "outputs": [
    {
     "name": "stdout",
     "output_type": "stream",
     "text": [
      "grab_points(\"../data/raw/Circle/1.svg\")=array([[ 1.42,  0.64],\n",
      "       [ 0.43,  2.74],\n",
      "       [-0.55,  4.83],\n",
      "       ...,\n",
      "       [ 1.47,  0.46],\n",
      "       [ 1.42,  0.64],\n",
      "       [ 1.42,  0.64]])\n"
     ]
    }
   ],
   "source": [
    "print(f'{grab_points(\"../data/raw/Circle/1.svg\")=}')"
   ]
  },
  {
   "cell_type": "code",
   "execution_count": 5,
   "metadata": {},
   "outputs": [
    {
     "name": "stdout",
     "output_type": "stream",
     "text": [
      "628\n",
      "602\n"
     ]
    }
   ],
   "source": [
    "points = grab_points(\"../data/raw/Circle/1.svg\")\n",
    "print(len(points))\n",
    "reduced = rdp(points)\n",
    "print(len(reduced))"
   ]
  },
  {
   "cell_type": "code",
   "execution_count": null,
   "metadata": {},
   "outputs": [],
   "source": [
    "\n"
   ]
  }
 ],
 "metadata": {
  "kernelspec": {
   "display_name": "env",
   "language": "python",
   "name": "python3"
  },
  "language_info": {
   "codemirror_mode": {
    "name": "ipython",
    "version": 3
   },
   "file_extension": ".py",
   "mimetype": "text/x-python",
   "name": "python",
   "nbconvert_exporter": "python",
   "pygments_lexer": "ipython3",
   "version": "3.10.11"
  }
 },
 "nbformat": 4,
 "nbformat_minor": 2
}
